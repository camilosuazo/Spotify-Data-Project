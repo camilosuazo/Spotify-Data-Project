{
 "cells": [
  {
   "cell_type": "markdown",
   "id": "49d815f7-3061-4dba-bf7e-1fdb4ce9d450",
   "metadata": {},
   "source": [
    "****Primer cambio guardado****"
   ]
  },
  {
   "cell_type": "code",
   "execution_count": null,
   "id": "3801ca8d-7642-40b7-91b4-f48fb18e8ead",
   "metadata": {},
   "outputs": [],
   "source": []
  }
 ],
 "metadata": {
  "kernelspec": {
   "display_name": "Python 3 (ipykernel)",
   "language": "python",
   "name": "python3"
  },
  "language_info": {
   "codemirror_mode": {
    "name": "ipython",
    "version": 3
   },
   "file_extension": ".py",
   "mimetype": "text/x-python",
   "name": "python",
   "nbconvert_exporter": "python",
   "pygments_lexer": "ipython3",
   "version": "3.11.7"
  }
 },
 "nbformat": 4,
 "nbformat_minor": 5
}

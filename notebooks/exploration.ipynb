{
 "cells": [
  {
   "cell_type": "code",
   "execution_count": 15,
   "id": "ca6ff19a-7910-4ef7-9375-d6da5f1500d2",
   "metadata": {},
   "outputs": [
    {
     "name": "stdout",
     "output_type": "stream",
     "text": [
      "¡Entorno configurado correctamente!\n"
     ]
    }
   ],
   "source": [
    "import pandas as pd\n",
    "import numpy as np\n",
    "import matplotlib.pyplot as plt\n",
    "import seaborn as sns\n",
    "from sklearn.linear_model import LinearRegression\n",
    "\n",
    "print(\"¡Entorno configurado correctamente!\")\n"
   ]
  },
  {
   "cell_type": "code",
   "execution_count": 13,
   "id": "2288ec04-1d0f-4800-81e1-881f17eb756a",
   "metadata": {},
   "outputs": [
    {
     "name": "stdout",
     "output_type": "stream",
     "text": [
      "                 Track ID                        Track Name  \\\n",
      "0  5Eg4TsPcqNbIjd8ADMZosg                            Chains   \n",
      "1  3V3iy4K6paycRmTyrjQVwi                           Secrets   \n",
      "2  2f0GI2ZLUtbGqFx8t2Gk6A  I Know Places (Taylor's Version)   \n",
      "3  2Od3Imc5PJeZhRPeIhpgN6                        Delta 1406   \n",
      "4  5hw1uOFZK3odNqXa4sF2JZ          Stay With Me - Re-record   \n",
      "\n",
      "                                          Album Name Artist Name(s)  \\\n",
      "0                                      Nick Jonas X2     Nick Jonas   \n",
      "1                        Heart On My Sleeve (Deluxe)   Mary Lambert   \n",
      "2                            1989 (Taylor's Version)   Taylor Swift   \n",
      "3                              31 Minutes to Takeoff    Mike Posner   \n",
      "4  In The Lonely Hour (10th Anniversary Edition /...      Sam Smith   \n",
      "\n",
      "  Release Date  Duration (ms)  Popularity                   Added By  \\\n",
      "0   2015-11-20         203106          55  95fvnclitpzdbgd83xcozdsk2   \n",
      "1   2014-10-14         223405          39  95fvnclitpzdbgd83xcozdsk2   \n",
      "2   2023-10-26         195700          63  95fvnclitpzdbgd83xcozdsk2   \n",
      "3   2010-08-09         184546          19  95fvnclitpzdbgd83xcozdsk2   \n",
      "4   2024-08-30         172760          38  95fvnclitpzdbgd83xcozdsk2   \n",
      "\n",
      "               Added At                           Genres  ... Key  Loudness  \\\n",
      "0  2024-11-29T00:19:04Z                    dance pop,pop  ...   0    -5.884   \n",
      "1  2024-11-29T00:19:04Z                       neo mellow  ...   0    -5.900   \n",
      "2  2024-11-29T00:19:04Z                              pop  ...   0    -5.348   \n",
      "3  2024-11-29T00:19:04Z  dance pop,pop,pop dance,pop rap  ...   1    -7.334   \n",
      "4  2024-11-29T00:19:04Z                       pop,uk pop  ...   0    -7.121   \n",
      "\n",
      "   Mode  Speechiness  Acousticness  Instrumentalness  Liveness  Valence  \\\n",
      "0     0       0.0454        0.0153          0.000000    0.0757    0.120   \n",
      "1     1       0.0410        0.0260          0.000135    0.2150    0.713   \n",
      "2     1       0.0574        0.0846          0.000000    0.0710    0.626   \n",
      "3     1       0.0451        0.0138          0.000461    0.1210    0.205   \n",
      "4     1       0.0411        0.5550          0.000041    0.1030    0.246   \n",
      "\n",
      "     Tempo  Time Signature  \n",
      "0   76.003               4  \n",
      "1   93.229               4  \n",
      "2  160.015               4  \n",
      "3   87.043               4  \n",
      "4   84.837               4  \n",
      "\n",
      "[5 rows x 23 columns]\n"
     ]
    }
   ],
   "source": [
    "# Cargar el dataset\n",
    "data = pd.read_csv('/Users/camilosuazomelendez/Library/Mobile Documents/com~apple~CloudDocs/UNAB/6° Trimestre/Ciencia de Datos/Proyecto Spotify Playlist/Spotify-Data-Project/data/origins.csv')\n",
    "print(data.head())\n"
   ]
  },
  {
   "cell_type": "code",
   "execution_count": null,
   "id": "f6f8fd2d-3a1e-4b98-ab4f-e47eaf710a69",
   "metadata": {},
   "outputs": [],
   "source": []
  }
 ],
 "metadata": {
  "kernelspec": {
   "display_name": "Python 3 (ipykernel)",
   "language": "python",
   "name": "python3"
  },
  "language_info": {
   "codemirror_mode": {
    "name": "ipython",
    "version": 3
   },
   "file_extension": ".py",
   "mimetype": "text/x-python",
   "name": "python",
   "nbconvert_exporter": "python",
   "pygments_lexer": "ipython3",
   "version": "3.11.7"
  }
 },
 "nbformat": 4,
 "nbformat_minor": 5
}
